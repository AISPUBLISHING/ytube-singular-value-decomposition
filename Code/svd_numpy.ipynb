{
 "cells": [
  {
   "cell_type": "code",
   "execution_count": 1,
   "metadata": {},
   "outputs": [],
   "source": [
    "import numpy as np\n",
    "from numpy import linalg as LA"
   ]
  },
  {
   "cell_type": "code",
   "execution_count": 2,
   "metadata": {},
   "outputs": [],
   "source": [
    "A = np.random.rand(3,4)"
   ]
  },
  {
   "cell_type": "code",
   "execution_count": 3,
   "metadata": {},
   "outputs": [
    {
     "data": {
      "text/plain": [
       "array([[0.92092888, 0.40218799, 0.18123735, 0.19288555],\n",
       "       [0.78815477, 0.70799252, 0.87968504, 0.01257624],\n",
       "       [0.79319352, 0.81420399, 0.64577955, 0.9737995 ]])"
      ]
     },
     "execution_count": 3,
     "metadata": {},
     "output_type": "execute_result"
    }
   ],
   "source": [
    "A"
   ]
  },
  {
   "cell_type": "code",
   "execution_count": 4,
   "metadata": {},
   "outputs": [],
   "source": [
    "ATA = A.T.dot(A)\n",
    "AAT = A.dot(A.T)"
   ]
  },
  {
   "cell_type": "code",
   "execution_count": 5,
   "metadata": {},
   "outputs": [
    {
     "data": {
      "text/plain": [
       "array([[2.0984539 , 1.57421553, 1.37246282, 0.95995735],\n",
       "       [1.57421553, 1.32593671, 1.22149819, 0.87935157],\n",
       "       [1.37246282, 1.22149819, 1.22372398, 0.67488099],\n",
       "       [0.95995735, 0.87935157, 0.67488099, 0.98564847]])"
      ]
     },
     "execution_count": 5,
     "metadata": {},
     "output_type": "execute_result"
    }
   ],
   "source": [
    "ATA"
   ]
  },
  {
   "cell_type": "code",
   "execution_count": 6,
   "metadata": {},
   "outputs": [
    {
     "data": {
      "text/plain": [
       "array([[1.079917  , 1.17243814, 1.36280911],\n",
       "       [1.17243814, 1.89644527, 1.78193892],\n",
       "       [1.36280911, 1.78193892, 2.65740078]])"
      ]
     },
     "execution_count": 6,
     "metadata": {},
     "output_type": "execute_result"
    }
   ],
   "source": [
    "AAT"
   ]
  },
  {
   "cell_type": "code",
   "execution_count": 7,
   "metadata": {},
   "outputs": [
    {
     "data": {
      "text/plain": [
       "array([[2.0984539 , 1.57421553, 1.37246282, 0.95995735],\n",
       "       [1.57421553, 1.32593671, 1.22149819, 0.87935157],\n",
       "       [1.37246282, 1.22149819, 1.22372398, 0.67488099],\n",
       "       [0.95995735, 0.87935157, 0.67488099, 0.98564847]])"
      ]
     },
     "execution_count": 7,
     "metadata": {},
     "output_type": "execute_result"
    }
   ],
   "source": [
    "ATA.T"
   ]
  },
  {
   "cell_type": "code",
   "execution_count": 8,
   "metadata": {},
   "outputs": [
    {
     "data": {
      "text/plain": [
       "array([[2.0984539 , 1.57421553, 1.37246282, 0.95995735],\n",
       "       [1.57421553, 1.32593671, 1.22149819, 0.87935157],\n",
       "       [1.37246282, 1.22149819, 1.22372398, 0.67488099],\n",
       "       [0.95995735, 0.87935157, 0.67488099, 0.98564847]])"
      ]
     },
     "execution_count": 8,
     "metadata": {},
     "output_type": "execute_result"
    }
   ],
   "source": [
    "ATA"
   ]
  },
  {
   "cell_type": "code",
   "execution_count": 9,
   "metadata": {},
   "outputs": [],
   "source": [
    "d1,V = LA.eig(ATA)"
   ]
  },
  {
   "cell_type": "code",
   "execution_count": 10,
   "metadata": {},
   "outputs": [
    {
     "data": {
      "text/plain": [
       "array([ 4.93643222e+00,  4.65580834e-01,  2.31749995e-01, -1.16487120e-16])"
      ]
     },
     "execution_count": 10,
     "metadata": {},
     "output_type": "execute_result"
    }
   ],
   "source": [
    "d1"
   ]
  },
  {
   "cell_type": "code",
   "execution_count": 11,
   "metadata": {},
   "outputs": [
    {
     "data": {
      "text/plain": [
       "-1.164871196659105e-16"
      ]
     },
     "execution_count": 11,
     "metadata": {},
     "output_type": "execute_result"
    }
   ],
   "source": [
    "d1[-1]"
   ]
  },
  {
   "cell_type": "code",
   "execution_count": 12,
   "metadata": {},
   "outputs": [
    {
     "data": {
      "text/plain": [
       "array([[-0.62914356, -0.26803284,  0.69225722, -0.23047066],\n",
       "       [-0.51644369, -0.01767343, -0.19897566,  0.83269577],\n",
       "       [-0.46562647, -0.3008666 , -0.69307322, -0.46078281],\n",
       "       [-0.34735614,  0.91505483, -0.02895072, -0.20292912]])"
      ]
     },
     "execution_count": 12,
     "metadata": {},
     "output_type": "execute_result"
    }
   ],
   "source": [
    "V"
   ]
  },
  {
   "cell_type": "code",
   "execution_count": 14,
   "metadata": {},
   "outputs": [
    {
     "data": {
      "text/plain": [
       "array([-0.12479095, -0.00822841, -0.14007772,  0.42603199])"
      ]
     },
     "execution_count": 14,
     "metadata": {},
     "output_type": "execute_result"
    }
   ],
   "source": [
    "ATA.dot(V[:,1])"
   ]
  },
  {
   "cell_type": "code",
   "execution_count": 15,
   "metadata": {},
   "outputs": [
    {
     "data": {
      "text/plain": [
       "array([-0.12479095, -0.00822841, -0.14007772,  0.42603199])"
      ]
     },
     "execution_count": 15,
     "metadata": {},
     "output_type": "execute_result"
    }
   ],
   "source": [
    "d1[1]*V[:,1]"
   ]
  },
  {
   "cell_type": "code",
   "execution_count": 16,
   "metadata": {},
   "outputs": [],
   "source": [
    "idx = np.argsort(d1)[::-1]\n",
    "d1 = d1[idx]\n",
    "V = V[:,idx]"
   ]
  },
  {
   "cell_type": "code",
   "execution_count": 17,
   "metadata": {},
   "outputs": [
    {
     "data": {
      "text/plain": [
       "array([ 4.93643222e+00,  4.65580834e-01,  2.31749995e-01, -1.16487120e-16])"
      ]
     },
     "execution_count": 17,
     "metadata": {},
     "output_type": "execute_result"
    }
   ],
   "source": [
    "d1"
   ]
  },
  {
   "cell_type": "code",
   "execution_count": 18,
   "metadata": {},
   "outputs": [
    {
     "data": {
      "text/plain": [
       "array([[-0.62914356, -0.26803284,  0.69225722, -0.23047066],\n",
       "       [-0.51644369, -0.01767343, -0.19897566,  0.83269577],\n",
       "       [-0.46562647, -0.3008666 , -0.69307322, -0.46078281],\n",
       "       [-0.34735614,  0.91505483, -0.02895072, -0.20292912]])"
      ]
     },
     "execution_count": 18,
     "metadata": {},
     "output_type": "execute_result"
    }
   ],
   "source": [
    "V"
   ]
  },
  {
   "cell_type": "code",
   "execution_count": 102,
   "metadata": {},
   "outputs": [],
   "source": [
    "d2,U = LA.eig(AAT)\n",
    "idx = np.argsort(d2)[::-1]\n",
    "d2 = d2[idx]\n",
    "U = U[:,idx]"
   ]
  },
  {
   "cell_type": "code",
   "execution_count": 103,
   "metadata": {},
   "outputs": [
    {
     "data": {
      "text/plain": [
       "array([ 4.93643222e+00,  4.65580834e-01,  2.31749995e-01, -1.16487120e-16])"
      ]
     },
     "execution_count": 103,
     "metadata": {},
     "output_type": "execute_result"
    }
   ],
   "source": [
    "d1"
   ]
  },
  {
   "cell_type": "code",
   "execution_count": 104,
   "metadata": {},
   "outputs": [
    {
     "data": {
      "text/plain": [
       "array([4.93643222, 0.46558083, 0.23175   ])"
      ]
     },
     "execution_count": 104,
     "metadata": {},
     "output_type": "execute_result"
    }
   ],
   "source": [
    "d2"
   ]
  },
  {
   "cell_type": "code",
   "execution_count": 105,
   "metadata": {},
   "outputs": [
    {
     "data": {
      "text/plain": [
       "array([[ 0.42240044, -0.19341623,  0.88553263],\n",
       "       [ 0.57407015, -0.69895876, -0.4264975 ],\n",
       "       [ 0.70144232,  0.68851058, -0.184206  ]])"
      ]
     },
     "execution_count": 105,
     "metadata": {},
     "output_type": "execute_result"
    }
   ],
   "source": [
    "U"
   ]
  },
  {
   "cell_type": "code",
   "execution_count": 106,
   "metadata": {},
   "outputs": [
    {
     "data": {
      "text/plain": [
       "array([4.93643222, 0.46558083, 0.23175   ])"
      ]
     },
     "execution_count": 106,
     "metadata": {},
     "output_type": "execute_result"
    }
   ],
   "source": [
    "d2"
   ]
  },
  {
   "cell_type": "code",
   "execution_count": 107,
   "metadata": {},
   "outputs": [
    {
     "data": {
      "text/plain": [
       "array([[-0.62914356, -0.26803284,  0.69225722, -0.23047066],\n",
       "       [-0.51644369, -0.01767343, -0.19897566,  0.83269577],\n",
       "       [-0.46562647, -0.3008666 , -0.69307322, -0.46078281],\n",
       "       [-0.34735614,  0.91505483, -0.02895072, -0.20292912]])"
      ]
     },
     "execution_count": 107,
     "metadata": {},
     "output_type": "execute_result"
    }
   ],
   "source": [
    "V"
   ]
  },
  {
   "cell_type": "code",
   "execution_count": 108,
   "metadata": {},
   "outputs": [],
   "source": [
    "U2,S2,V2 = LA.svd(A)"
   ]
  },
  {
   "cell_type": "code",
   "execution_count": 109,
   "metadata": {},
   "outputs": [
    {
     "data": {
      "text/plain": [
       "array([[ 0.42240044, -0.19341623,  0.88553263],\n",
       "       [ 0.57407015, -0.69895876, -0.4264975 ],\n",
       "       [ 0.70144232,  0.68851058, -0.184206  ]])"
      ]
     },
     "execution_count": 109,
     "metadata": {},
     "output_type": "execute_result"
    }
   ],
   "source": [
    "U"
   ]
  },
  {
   "cell_type": "code",
   "execution_count": 110,
   "metadata": {},
   "outputs": [
    {
     "data": {
      "text/plain": [
       "array([[-0.42240044,  0.19341623,  0.88553263],\n",
       "       [-0.57407015,  0.69895876, -0.4264975 ],\n",
       "       [-0.70144232, -0.68851058, -0.184206  ]])"
      ]
     },
     "execution_count": 110,
     "metadata": {},
     "output_type": "execute_result"
    }
   ],
   "source": [
    "U2"
   ]
  },
  {
   "cell_type": "code",
   "execution_count": 111,
   "metadata": {},
   "outputs": [
    {
     "data": {
      "text/plain": [
       "array([2.22180832, 0.68233484, 0.48140419])"
      ]
     },
     "execution_count": 111,
     "metadata": {},
     "output_type": "execute_result"
    }
   ],
   "source": [
    "S2"
   ]
  },
  {
   "cell_type": "code",
   "execution_count": 112,
   "metadata": {},
   "outputs": [
    {
     "data": {
      "text/plain": [
       "array([4.93643222, 0.46558083, 0.23175   ])"
      ]
     },
     "execution_count": 112,
     "metadata": {},
     "output_type": "execute_result"
    }
   ],
   "source": [
    "d2"
   ]
  },
  {
   "cell_type": "code",
   "execution_count": 113,
   "metadata": {},
   "outputs": [
    {
     "data": {
      "text/plain": [
       "array([2.22180832, 0.68233484, 0.48140419])"
      ]
     },
     "execution_count": 113,
     "metadata": {},
     "output_type": "execute_result"
    }
   ],
   "source": [
    "d2**0.5"
   ]
  },
  {
   "cell_type": "code",
   "execution_count": 114,
   "metadata": {},
   "outputs": [
    {
     "data": {
      "text/plain": [
       "array([[-0.62914356, -0.51644369, -0.46562647, -0.34735614],\n",
       "       [-0.26803284, -0.01767343, -0.3008666 ,  0.91505483],\n",
       "       [ 0.69225722, -0.19897566, -0.69307322, -0.02895072],\n",
       "       [-0.23047066,  0.83269577, -0.46078281, -0.20292912]])"
      ]
     },
     "execution_count": 114,
     "metadata": {},
     "output_type": "execute_result"
    }
   ],
   "source": [
    "V.T"
   ]
  },
  {
   "cell_type": "code",
   "execution_count": 115,
   "metadata": {},
   "outputs": [
    {
     "data": {
      "text/plain": [
       "array([[-0.62914356, -0.51644369, -0.46562647, -0.34735614],\n",
       "       [ 0.26803284,  0.01767343,  0.3008666 , -0.91505483],\n",
       "       [ 0.69225722, -0.19897566, -0.69307322, -0.02895072],\n",
       "       [ 0.23047066, -0.83269577,  0.46078281,  0.20292912]])"
      ]
     },
     "execution_count": 115,
     "metadata": {},
     "output_type": "execute_result"
    }
   ],
   "source": [
    "V2"
   ]
  },
  {
   "cell_type": "code",
   "execution_count": 116,
   "metadata": {},
   "outputs": [],
   "source": [
    "D2 = np.hstack((np.diag(S2),np.zeros((3,1))))"
   ]
  },
  {
   "cell_type": "code",
   "execution_count": 118,
   "metadata": {},
   "outputs": [
    {
     "data": {
      "text/plain": [
       "array([[0.92092888, 0.40218799, 0.18123735, 0.19288555],\n",
       "       [0.78815477, 0.70799252, 0.87968504, 0.01257624],\n",
       "       [0.79319352, 0.81420399, 0.64577955, 0.9737995 ]])"
      ]
     },
     "execution_count": 118,
     "metadata": {},
     "output_type": "execute_result"
    }
   ],
   "source": [
    "U2.dot(D2).dot(V2)"
   ]
  },
  {
   "cell_type": "code",
   "execution_count": 119,
   "metadata": {},
   "outputs": [
    {
     "data": {
      "text/plain": [
       "array([[0.92092888, 0.40218799, 0.18123735, 0.19288555],\n",
       "       [0.78815477, 0.70799252, 0.87968504, 0.01257624],\n",
       "       [0.79319352, 0.81420399, 0.64577955, 0.9737995 ]])"
      ]
     },
     "execution_count": 119,
     "metadata": {},
     "output_type": "execute_result"
    }
   ],
   "source": [
    "A"
   ]
  },
  {
   "cell_type": "code",
   "execution_count": 120,
   "metadata": {},
   "outputs": [
    {
     "data": {
      "text/plain": [
       "array([[ 1.00000000e+00,  3.42316454e-16, -2.05308749e-17],\n",
       "       [ 3.42316454e-16,  1.00000000e+00, -3.17574729e-16],\n",
       "       [-2.05308749e-17, -3.17574729e-16,  1.00000000e+00]])"
      ]
     },
     "execution_count": 120,
     "metadata": {},
     "output_type": "execute_result"
    }
   ],
   "source": [
    "U2.dot(U2.T)"
   ]
  },
  {
   "cell_type": "code",
   "execution_count": 121,
   "metadata": {},
   "outputs": [
    {
     "data": {
      "text/plain": [
       "array([[ 1.00000000e+00,  0.00000000e+00,  1.80411242e-16,\n",
       "         5.55111512e-17],\n",
       "       [ 0.00000000e+00,  1.00000000e+00, -2.84494650e-16,\n",
       "         1.66533454e-16],\n",
       "       [ 1.80411242e-16, -2.84494650e-16,  1.00000000e+00,\n",
       "         2.77555756e-16],\n",
       "       [ 5.55111512e-17,  1.66533454e-16,  2.77555756e-16,\n",
       "         1.00000000e+00]])"
      ]
     },
     "execution_count": 121,
     "metadata": {},
     "output_type": "execute_result"
    }
   ],
   "source": [
    "V2.dot(V2.T)"
   ]
  },
  {
   "cell_type": "code",
   "execution_count": 122,
   "metadata": {},
   "outputs": [
    {
     "data": {
      "text/plain": [
       "array([[ 1.00000000e+00,  8.41240024e-16, -7.16508004e-16],\n",
       "       [ 8.41240024e-16,  1.00000000e+00,  1.14204587e-16],\n",
       "       [-7.16508004e-16,  1.14204587e-16,  1.00000000e+00]])"
      ]
     },
     "execution_count": 122,
     "metadata": {},
     "output_type": "execute_result"
    }
   ],
   "source": [
    "U.dot(U.T)"
   ]
  },
  {
   "cell_type": "code",
   "execution_count": 123,
   "metadata": {},
   "outputs": [
    {
     "data": {
      "text/plain": [
       "array([[ 1.00000000e+00, -3.33066907e-16,  1.11022302e-16,\n",
       "         1.11022302e-16],\n",
       "       [-3.33066907e-16,  1.00000000e+00,  3.33066907e-16,\n",
       "        -2.22044605e-16],\n",
       "       [ 1.11022302e-16,  3.33066907e-16,  1.00000000e+00,\n",
       "        -6.66133815e-16],\n",
       "       [ 1.11022302e-16, -2.22044605e-16, -6.66133815e-16,\n",
       "         1.00000000e+00]])"
      ]
     },
     "execution_count": 123,
     "metadata": {},
     "output_type": "execute_result"
    }
   ],
   "source": [
    "V.dot(V.T)"
   ]
  },
  {
   "cell_type": "code",
   "execution_count": null,
   "metadata": {},
   "outputs": [],
   "source": []
  }
 ],
 "metadata": {
  "kernelspec": {
   "display_name": "Python 3",
   "language": "python",
   "name": "python3"
  },
  "language_info": {
   "codemirror_mode": {
    "name": "ipython",
    "version": 3
   },
   "file_extension": ".py",
   "mimetype": "text/x-python",
   "name": "python",
   "nbconvert_exporter": "python",
   "pygments_lexer": "ipython3",
   "version": "3.7.6"
  }
 },
 "nbformat": 4,
 "nbformat_minor": 4
}
